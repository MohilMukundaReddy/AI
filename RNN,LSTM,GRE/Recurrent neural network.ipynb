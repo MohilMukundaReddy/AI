{
 "cells": [
  {
   "cell_type": "code",
   "execution_count": 1,
   "id": "1623c41b",
   "metadata": {},
   "outputs": [],
   "source": [
    "import numpy as np\n",
    "import scipy as sc\n",
    "import matplotlib.pyplot as plt\n",
    "import torch\n",
    "import torch.nn as nn\n",
    "import torch.optim as optim\n",
    "import random"
   ]
  },
  {
   "cell_type": "code",
   "execution_count": 2,
   "id": "36060cc5",
   "metadata": {},
   "outputs": [],
   "source": [
    "def fun_gru(x):   #used in gru for 1-i part\n",
    "    return 1-x"
   ]
  },
  {
   "cell_type": "markdown",
   "id": "86ff306c",
   "metadata": {},
   "source": [
    "<h3><center>Generating data</center></h3>"
   ]
  },
  {
   "cell_type": "code",
   "execution_count": 3,
   "id": "88114a55",
   "metadata": {},
   "outputs": [],
   "source": [
    "def generate_data(n):\n",
    "    x = []\n",
    "    y = []\n",
    "    for i in range(n):\n",
    "        length = random.randint(2,9) #(min,max) limit\n",
    "        x_1 = torch.rand(length)\n",
    "        x_2 = torch.zeros(length,dtype=torch.int32)\n",
    "        #generate two unique positions in length \n",
    "        lt = []\n",
    "        while (len(lt) < 2):\n",
    "            k = random.randint(0,length - 1)\n",
    "            if(lt.count(k) == 0):\n",
    "                lt.append(k)\n",
    "                x_2[k] = 1\n",
    "        lt = []\n",
    "        \n",
    "        sum = torch.tensor([0.0])\n",
    "        for j in range(length):\n",
    "            if x_2[j] == 1:    #during comparing take care that int type of tensor is compared\n",
    "                sum = sum + x_1[j]\n",
    "        x_3 = torch.cat((x_1,x_2)).reshape(2,length).T\n",
    "        y.append(sum)\n",
    "        x.append(x_3)\n",
    "    return x,y"
   ]
  },
  {
   "cell_type": "markdown",
   "id": "cd9b7503",
   "metadata": {},
   "source": [
    "<p>The generated data represents a synthetic dataset for a supervised learning task. The inputs (x) are generated as follows:</p>\n",
    "\n",
    "* For each instance, a random length (between 2 and 9) is generated.\n",
    "* Two unique positions within the length are randomly selected.\n",
    "* A tensor x_1 of shape (length,) is generated with random values between 2 and 9.\n",
    "* A tensor x_2 of shape (length,) is created with all values initialized to 0.\n",
    "* The selected positions in x_2 are set to 1.\n",
    "* The values in x_1 corresponding to the positions where x_2 is 1 are summed, and the result is stored in y.\n",
    "* Finally, x, which contains both x_1 and x_2, is reshaped into shape (length, 2) and transposed to have shape (2, length)."
   ]
  },
  {
   "cell_type": "code",
   "execution_count": 4,
   "id": "feaf7da1",
   "metadata": {},
   "outputs": [
    {
     "name": "stdout",
     "output_type": "stream",
     "text": [
      "tensor([[0.7588, 0.0000],\n",
      "        [0.5858, 0.0000],\n",
      "        [0.5342, 1.0000],\n",
      "        [0.5350, 1.0000],\n",
      "        [0.8444, 0.0000],\n",
      "        [0.3711, 0.0000]])\n",
      "tensor([1.0692])\n"
     ]
    }
   ],
   "source": [
    "x_train,y_train = generate_data(6000)\n",
    "x_test,y_test = generate_data(2000)\n",
    "\n",
    "print(x_train[0])\n",
    "print(y_train[0]) #we want to train the network to sum when x[i][1] == 1"
   ]
  },
  {
   "cell_type": "markdown",
   "id": "b8c2f954",
   "metadata": {},
   "source": [
    "<h3><center>Elmon RNN</center></h3>"
   ]
  },
  {
   "cell_type": "code",
   "execution_count": 6,
   "id": "82a73c88",
   "metadata": {},
   "outputs": [],
   "source": [
    "class elmon(nn.Module):\n",
    "    error_pred = []\n",
    "    error_baseline = 0\n",
    "    noof_epochs = 0\n",
    "    def __init__(self):\n",
    "        super().__init__()\n",
    "        #intitial hidden state rather then zeros we can learn them from training data\n",
    "        self.s_0 = nn.Parameter(torch.randn(3,1,requires_grad = True))\n",
    "        \n",
    "        self.W_i = nn.Parameter(torch.randn(3,2,requires_grad = True)) #multiplied with input\n",
    "        self.W_h = nn.Parameter(torch.randn(3,3,requires_grad = True)) #multiplied with hidden staes\n",
    "        self.W_o = nn.Parameter(torch.randn(1,3,requires_grad = True)) #multiplied with output\n",
    "        \n",
    "        self.b = nn.Parameter(torch.randn(3,1,requires_grad = True))  #biases of hidden state\n",
    "        self.c = nn.Parameter(torch.randn(1,1,requires_grad = True))   #biases of final output\n",
    "    \n",
    "    def forward(self,x):\n",
    "        hidden_state = self.s_0\n",
    "        for i in range(len(x)):\n",
    "            hidden_state = torch.tanh(self.W_i@x[i] + self.W_h@hidden_state + self.b) #x[i] is 2*1 dimention\n",
    "        y = self.W_o@hidden_state + self.c\n",
    "        return y\n",
    "    \n",
    "    def train(self,loss_function,x_train,y_train,max_epochs = 30):\n",
    "        optimizer = optim.Adam(self.parameters(),lr=0.005)    \n",
    "        epochs = 0\n",
    "        net_loss = 256\n",
    "        while(epochs < max_epochs and net_loss > 0.005 ):\n",
    "            loss_accum = 0\n",
    "            for j in range(len(x_train)):\n",
    "                optimizer.zero_grad()\n",
    "                y_pred = self.forward(x_train[j])\n",
    "                loss = loss_function(y_pred,y_train[j]) \n",
    "                loss.backward()\n",
    "                optimizer.step()\n",
    "                loss_accum += loss.item()\n",
    "            loss_accum = loss_accum/len(x_train)\n",
    "            epochs += 1\n",
    "            self.error_pred.append(loss_accum)\n",
    "            \n",
    "        self.noof_epochs = epochs\n",
    "        loss_baseline = 0\n",
    "        for j in range(len(x_train)):\n",
    "            loss_base = loss_function(torch.tensor([1]),y_train[j])\n",
    "            loss_baseline += loss_base.item()\n",
    "        loss_baseline = loss_baseline/len(x_train)\n",
    "        self.error_baseline = loss_baseline\n",
    "            \n",
    "        print(\"the Elmon is trained\")\n",
    "        return\n",
    "        \n",
    "    def test(self,loss_function,x_test,y_test):\n",
    "        loss_accum = 0\n",
    "        for j in range(len(x_test)):\n",
    "            y_pred = self.forward(x_test[j])\n",
    "            loss = loss_function(y_pred,y_test[j]) \n",
    "            loss_accum += loss.item()\n",
    "        net_loss = loss_accum/len(x_test)\n",
    "        print(net_loss)\n",
    "        return      "
   ]
  },
  {
   "cell_type": "markdown",
   "id": "cd4dbe72",
   "metadata": {},
   "source": [
    "<p>The \"elmon\" class is a neural network model defined using the PyTorch library. It inherits from the nn.Module class and implements the forward pass logic for the network. The class has trainable parameters: s_0, W_i, W_h, W_o, b, and c, which are initialized randomly. These parameters are updated during the training process.</p>\n",
    "\n",
    "<p>The forward method takes an input x and iterates over its elements. At each step, it computes the hidden state by applying a series of matrix multiplications and non-linear activation (tanh) operations. Finally, the output y is computed as a linear transformation of the last hidden state.</p>\n",
    "\n",
    "<p>The train method trains the network using the provided training data and a specified loss function. It uses the Adam optimizer with a learning rate of 0.005. The training process consists of multiple epochs, where for each epoch, the optimizer is zeroed, the forward pass is performed, the loss is computed, and the gradients are backpropagated and updated. The average loss per instance is accumulated for each epoch. The training process continues until the maximum number of epochs is reached or the accumulated loss falls below a threshold (0.005). The error values are stored in the error_pred list.</p>\n",
    "\n",
    "<p>The test method evaluates the trained network on the provided test data using the same loss function. It computes the average loss per instance and prints the result.</p>\n",
    "\n",
    "<p>In summary, the \"elmon\" class represents a neural network model (ELMON) that is trained to predict the sum of values in x_1 where x_2 is equal to 1. It uses a series of trainable parameters and the tanh activation function to process the input data and generate predictions. The training and testing methods facilitate the training and evaluation of the model using the provided data.</p>"
   ]
  },
  {
   "cell_type": "markdown",
   "id": "a4fe41f8",
   "metadata": {},
   "source": [
    "<h3><center>LSTM</center></h3>"
   ]
  },
  {
   "cell_type": "code",
   "execution_count": 7,
   "id": "4b9160cb",
   "metadata": {},
   "outputs": [],
   "source": [
    "class LSTM(nn.Module):\n",
    "    error_pred = []\n",
    "    error_baseline = 0\n",
    "    noof_epochs = 0\n",
    "    def __init__(self):\n",
    "        super().__init__()\n",
    "         #here we are learning initial parameters also\n",
    "        self.s_0 = nn.Parameter(torch.randn(3,1,requires_grad = True))\n",
    "        self.O_0 = nn.Parameter(torch.randn(3,1,requires_grad = True)) \n",
    "        \n",
    "        self.W_i = nn.Parameter(torch.randn(3,2,requires_grad = True))\n",
    "        self.W_h = nn.Parameter(torch.randn(3,3,requires_grad = True))\n",
    "        self.W_o = nn.Parameter(torch.randn(1,3,requires_grad = True))\n",
    "        \n",
    "        self.V_o = nn.Parameter(torch.randn(3,3,requires_grad = True))#U,V,b is related to O,i,f gates sunscipt denotes to what\n",
    "        self.V_i = nn.Parameter(torch.randn(3,3,requires_grad = True))# exactly they are they operate on\n",
    "        self.V_f = nn.Parameter(torch.randn(3,3,requires_grad = True))\n",
    "        \n",
    "        self.U_o = nn.Parameter(torch.randn(3,2,requires_grad = True))\n",
    "        self.U_i = nn.Parameter(torch.randn(3,2,requires_grad = True))\n",
    "        self.U_f = nn.Parameter(torch.randn(3,2,requires_grad = True))\n",
    "        \n",
    "        self.b_i = nn.Parameter(torch.randn(3,1,requires_grad = True))\n",
    "        self.b_o = nn.Parameter(torch.randn(3,1,requires_grad = True))\n",
    "        self.b_f = nn.Parameter(torch.randn(3,1,requires_grad = True))\n",
    "        \n",
    "        self.b_final = nn.Parameter(torch.randn(1,1,requires_grad = True))  #biases for final output\n",
    "        self.b_hidden = nn.Parameter(torch.randn(3,1,requires_grad = True))  #biases of hidden state \n",
    "    \n",
    "    def forward(self,x):\n",
    "        s = self.s_0\n",
    "        O = self.O_0\n",
    "        h = torch.sigmoid(s*O)\n",
    "        for j in range(len(x)):\n",
    "            s_tilda = torch.tanh(self.W_h@h + self.W_i@x[j] + self.b_hidden)\n",
    "            i = torch.sigmoid(self.V_i@h + self.U_i@x[j] + self.b_i )\n",
    "            f = torch.sigmoid(self.V_f@h + self.U_f@x[j] + self.b_f )\n",
    "            O = torch.sigmoid(self.V_o@h + self.U_o@x[j] + self.b_o )\n",
    "            s = f*s + i*s_tilda\n",
    "            h = torch.sigmoid(s*O)    \n",
    "        y = self.W_o@h + self.b_final\n",
    "        return y\n",
    "    \n",
    "    def train(self,loss_function,x_train,y_train,max_epochs = 25):\n",
    "        optimizer = optim.Adam(self.parameters(),lr=0.002)\n",
    "        epochs = 0\n",
    "        net_loss = 256 #initialization\n",
    "        while(epochs < max_epochs and net_loss > 0.005 ):\n",
    "            loss_accum = 0\n",
    "            for j in range(len(x_train)):\n",
    "                optimizer.zero_grad()\n",
    "                y_pred = self.forward(x_train[j])\n",
    "                loss = loss_function(y_pred,y_train[j]) \n",
    "                loss.backward()\n",
    "                optimizer.step() #update step\n",
    "                loss_accum += loss.item()\n",
    "            loss_accum = loss_accum/len(x_train)\n",
    "            epochs += 1\n",
    "            self.error_pred.append(loss_accum)\n",
    "        \n",
    "        self.noof_epochs = epochs\n",
    "        loss_baseline = 0\n",
    "        for j in range(len(x_train)):\n",
    "            loss_base = loss_function(torch.tensor([1]),y_train[j])\n",
    "            loss_baseline += loss_base.item()\n",
    "        loss_baseline = loss_baseline/len(x_train)\n",
    "        self.error_baseline = loss_baseline\n",
    "        print(\"the LSTM is trained\")\n",
    "        return\n",
    "        \n",
    "    def test(self,loss_function,x_test,y_test):\n",
    "        loss_accum = 0\n",
    "        for j in range(len(x_test)):\n",
    "            y_pred = self.forward(x_test[j])\n",
    "            loss = loss_function(y_pred,y_test[j]) \n",
    "            loss_accum += loss.item()\n",
    "        net_loss = loss_accum/len(x_test)\n",
    "        print(net_loss)\n",
    "        return"
   ]
  },
  {
   "cell_type": "markdown",
   "id": "6f0a324a",
   "metadata": {},
   "source": [
    "<p>The new class \"LSTM\" extends the nn.Module class and represents a Long Short-Term Memory (LSTM) model. It has similar attributes and methods as the previous \"elmon\" class but with additional parameters and modifications to the forward method.</p>\n",
    "\n",
    "<p>The \"LSTM\" model has some advantages over the \"elmon\" model (a simple recurrent neural network) due to its architecture and gating mechanisms. Here are some benefits of using an LSTM:</p>\n",
    "\n",
    "* Long-Term Dependencies: LSTMs are specifically designed to handle long-term dependencies in sequential data. They can capture information over longer sequences and alleviate the vanishing gradient problem that can occur in traditional RNNs. This makes LSTMs more effective in tasks where long-term dependencies are crucial.\n",
    "\n",
    "* Gating Mechanisms: LSTMs have three gating mechanisms: the input gate (i), forget gate (f), and output gate (o). These gates allow the LSTM to control the flow of information, selectively remember or forget information, and regulate the output at each time step. The gating mechanisms provide the LSTM with more flexibility in modeling sequential data by learning which information is important to retain and propagate.\n",
    "\n",
    "* Better Memory Management: LSTMs have a separate cell state that can store and propagate information over time. This cell state acts as a memory that can hold information from earlier time steps and pass it along to future time steps selectively. It allows LSTMs to retain important information over long sequences, making them more effective in tasks requiring memory retention.\n",
    "\n",
    "* Reduced Vanishing Gradient Problem: Traditional RNNs often suffer from the vanishing gradient problem, which occurs when gradients diminish exponentially as they propagate through time steps. LSTMs mitigate this problem through the use of the forget gate. The forget gate allows the LSTM to learn to retain important information over long sequences, preventing the gradients from vanishing or exploding.\n",
    "\n",
    "* Improved Training and Performance: Due to their ability to handle long-term dependencies and better memory management, LSTMs can often achieve better performance on tasks that require capturing and understanding sequential patterns. They can learn complex relationships in the data and make accurate predictions."
   ]
  },
  {
   "cell_type": "markdown",
   "id": "3e33a8ba",
   "metadata": {},
   "source": [
    "<h3><center>GRU</center></h3>"
   ]
  },
  {
   "cell_type": "code",
   "execution_count": 8,
   "id": "d25fdd01",
   "metadata": {},
   "outputs": [],
   "source": [
    "class GRU(nn.Module):\n",
    "    error_pred = []\n",
    "    error_baseline = 0\n",
    "    noof_epochs = 0\n",
    "    def __init__(self):\n",
    "        super().__init__()\n",
    "        self.s_0 = nn.Parameter(torch.randn(3,1,requires_grad = True))\n",
    "        \n",
    "        self.W_h = nn.Parameter(torch.randn(3,3,requires_grad = True)) \n",
    "        self.W_i = nn.Parameter(torch.randn(3,2,requires_grad = True))\n",
    "        self.W_o = nn.Parameter(torch.randn(1,3,requires_grad = True))\n",
    "            \n",
    "        self.V_o = nn.Parameter(torch.randn(3,3,requires_grad = True)) #U,V,b is related to O,i gates sunscipt denotes to what\n",
    "        self.V_i = nn.Parameter(torch.randn(3,3,requires_grad = True)) # exactly they are they operate on\n",
    "        \n",
    "        self.U_o = nn.Parameter(torch.randn(3,2,requires_grad = True))\n",
    "        self.U_i = nn.Parameter(torch.randn(3,2,requires_grad = True))\n",
    "        \n",
    "        \n",
    "        self.b_i = nn.Parameter(torch.randn(3,1,requires_grad = True))\n",
    "        self.b_o = nn.Parameter(torch.randn(3,1,requires_grad = True))\n",
    "        \n",
    "        self.b_final = nn.Parameter(torch.randn(1,1,requires_grad = True))     #biases for final output\n",
    "        self.b_hidden = nn.Parameter(torch.randn(3,1,requires_grad = True))    #biases of hidden state\n",
    "    \n",
    "    def forward(self,x):\n",
    "        s = self.s_0\n",
    "        for j in range(len(x)):\n",
    "            O = torch.sigmoid(self.V_o@s + self.U_o@x[j] + self.b_o)\n",
    "            i = torch.sigmoid(self.V_i@s + self.U_i@x[j] + self.b_i)\n",
    "            s_tilda = torch.tanh(self.W_h@(O*s) + self.W_i@x[j] + self.b_hidden)\n",
    "            s = s*fun_gru(i) + i*s_tilda\n",
    "        y = self.W_o@s + self.b_final\n",
    "        return y\n",
    "    \n",
    "    def train(self,loss_function,x_train,y_train,max_epochs = 25):\n",
    "        optimizer = optim.Adam(self.parameters(),lr=0.002)\n",
    "        epochs = 0\n",
    "        net_loss = 256\n",
    "        while(epochs < max_epochs and net_loss > 0.005 ):\n",
    "            loss_accum = 0\n",
    "            for j in range(len(x_train)):\n",
    "                optimizer.zero_grad()\n",
    "                y_pred = self.forward(x_train[j])\n",
    "                loss = loss_function(y_pred,y_train[j]) \n",
    "                loss.backward()\n",
    "                optimizer.step()\n",
    "                loss_accum += loss.item()\n",
    "            loss_accum = loss_accum/len(x_train)\n",
    "            epochs += 1\n",
    "            self.error_pred.append(loss_accum)\n",
    "            \n",
    "        self.noof_epochs = epochs\n",
    "        loss_baseline = 0\n",
    "        for j in range(len(x_train)):\n",
    "            loss_base = loss_function(torch.tensor([1]),y_train[j])\n",
    "            loss_baseline += loss_base.item()\n",
    "        loss_baseline = loss_baseline/len(x_train)\n",
    "        self.error_baseline = loss_baseline\n",
    "        print(\"the GRU is trained\")\n",
    "        return\n",
    "        \n",
    "    def test(self,loss_function,x_test,y_test):\n",
    "        loss_accum = 0\n",
    "        for j in range(len(x_test)):\n",
    "            y_pred = self.forward(x_test[j])\n",
    "            loss = loss_function(y_pred,y_test[j]) \n",
    "            loss_accum += loss.item()\n",
    "        net_loss = loss_accum/len(x_test)\n",
    "        print(net_loss)\n",
    "        return"
   ]
  },
  {
   "cell_type": "markdown",
   "id": "556fa058",
   "metadata": {},
   "source": [
    "<p>The GRU (Gated Recurrent Unit) is another type of recurrent neural network architecture that offers certain advantages over LSTMs. Here are some benefits of using GRUs over LSTMs</p>\n",
    "\n",
    "* Fewer Parameters: GRUs typically have fewer parameters than LSTMs because of the simplified architecture. This can lead to faster training and require less computational resources.\n",
    "\n",
    "* Faster Training: Due to the reduced number of parameters, GRUs often train faster than LSTMs. They can converge to good solutions with fewer training iterations, making them efficient for large-scale datasets.\n",
    "\n",
    "* Less Susceptible to Overfitting: With fewer parameters, GRUs are generally less prone to overfitting than LSTMs. They may generalize better when the training data is limited or when the model complexity needs to be controlled.\n",
    "\n",
    "* Capturing Short-Term Dependencies: GRUs can be effective in tasks that primarily require capturing <b>short-term</b> dependencies. They are particularly suitable when the context window for relevant information is relatively small.\n",
    "\n",
    "<p>It's important to note that the choice between using LSTMs or GRUs depends on the specific task and dataset. While GRUs offer certain advantages, LSTMs may still be more suitable in scenarios that involve longer-term dependencies or tasks where explicit memory management is crucial. Additionally, the performance of GRUs and LSTMs can vary depending on the nature of the dataset and the complexity of the task at hand.</p>"
   ]
  },
  {
   "cell_type": "markdown",
   "id": "747133db",
   "metadata": {},
   "source": [
    "<h3><center>Training RNN on same dataset</center></h3>"
   ]
  },
  {
   "cell_type": "code",
   "execution_count": 9,
   "id": "6f11b9a4",
   "metadata": {},
   "outputs": [
    {
     "name": "stderr",
     "output_type": "stream",
     "text": [
      "/Library/Frameworks/Python.framework/Versions/3.10/lib/python3.10/site-packages/torch/nn/modules/loss.py:536: UserWarning: Using a target size (torch.Size([1])) that is different to the input size (torch.Size([1, 3])). This will likely lead to incorrect results due to broadcasting. Please ensure they have the same size.\n",
      "  return F.mse_loss(input, target, reduction=self.reduction)\n"
     ]
    },
    {
     "name": "stdout",
     "output_type": "stream",
     "text": [
      "the Elmon is trained\n",
      "the LSTM is trained\n",
      "the GRU is trained\n"
     ]
    }
   ],
   "source": [
    "model_elmon = elmon()\n",
    "model_elmon.train(nn.MSELoss(),x_train,y_train)\n",
    "\n",
    "model_LSTM = LSTM()\n",
    "model_LSTM.train(nn.MSELoss(),x_train,y_train)\n",
    "\n",
    "model_GRU = GRU()\n",
    "model_GRU.train(nn.MSELoss(),x_train,y_train)"
   ]
  },
  {
   "cell_type": "markdown",
   "id": "bb4f1e9d",
   "metadata": {},
   "source": [
    "<h3><center>Comparing with baseline model</center></h3>"
   ]
  },
  {
   "cell_type": "code",
   "execution_count": 10,
   "id": "61bdfd61",
   "metadata": {},
   "outputs": [
    {
     "data": {
      "image/png": "[encoded data removed]",
      "text/plain": [
       "<Figure size 640x480 with 1 Axes>"
      ]
     },
     "metadata": {},
     "output_type": "display_data"
    }
   ],
   "source": [
    "y = np.full(30,model_elmon.error_baseline)\n",
    "x = np.arange(1,31,1)\n",
    "plt.plot(x,y,label = 'baseline')\n",
    "plt.plot(np.arange(1,model_elmon.noof_epochs+1,1),model_elmon.error_pred,label='elmon')\n",
    "plt.plot(np.arange(1,model_LSTM.noof_epochs+1,1),model_LSTM.error_pred,label='LSTM')\n",
    "plt.plot(np.arange(1,model_GRU.noof_epochs+1,1),model_GRU.error_pred,label='GRU')\n",
    "plt.legend()\n",
    "plt.title(\"Comparing Error\")\n",
    "plt.xlabel(\"epochs\")\n",
    "plt.ylabel(\"error\")\n",
    "plt.grid(True)\n",
    "plt.show()"
   ]
  },
  {
   "cell_type": "markdown",
   "id": "3a9fe281",
   "metadata": {},
   "source": [
    "* The \"elmon\" model shows a higher error rate compared to both the \"LSTM\" and \"GRU\" models throughout the training epochs. This suggests that the \"elmon\" model struggles to learn and capture the patterns in the data effectively.\n",
    "* Both the \"LSTM\" and \"GRU\" models converge faster and achieve lower error rates compared to the \"elmon\" model. This indicates that the LSTM and GRU models are more effective in learning and predicting the sums accurately.\n",
    "* The \"elmon\" model performs better than the baseline model in terms of error rates, indicating its ability to learn and make predictions that are more accurate than always predicting a sum of 1.\n",
    "* However, the \"LSTM\" and \"GRU\" models still outperform the \"elmon\" model, converging faster and achieving even lower error rates.\n",
    "\n",
    "<p>The baseline model is the one that always predict sum as $1$ as the data is taken from uniform distribution and only two positions contains $1$ so $2*E[x] = 1$ so baseline model can be assumed to always output one</p>"
   ]
  },
  {
   "cell_type": "markdown",
   "id": "dbbed318",
   "metadata": {},
   "source": [
    "<h3><center>Performance on same test dataset</center></h3>"
   ]
  },
  {
   "cell_type": "code",
   "execution_count": 11,
   "id": "d25f51be",
   "metadata": {},
   "outputs": [
    {
     "name": "stdout",
     "output_type": "stream",
     "text": [
      "0.07604192085388832\n"
     ]
    }
   ],
   "source": [
    "model_elmon.test(nn.MSELoss(),x_test,y_test)"
   ]
  },
  {
   "cell_type": "code",
   "execution_count": 12,
   "id": "70158ea6",
   "metadata": {},
   "outputs": [
    {
     "name": "stdout",
     "output_type": "stream",
     "text": [
      "0.00034890244498552646\n"
     ]
    }
   ],
   "source": [
    "model_LSTM.test(nn.MSELoss(),x_test,y_test)"
   ]
  },
  {
   "cell_type": "code",
   "execution_count": 13,
   "id": "8fab7830",
   "metadata": {},
   "outputs": [
    {
     "name": "stdout",
     "output_type": "stream",
     "text": [
      "0.00010255258584867378\n"
     ]
    }
   ],
   "source": [
    "model_GRU.test(nn.MSELoss(),x_test,y_test)"
   ]
  },
  {
   "cell_type": "markdown",
   "id": "aabba307",
   "metadata": {},
   "source": [
    "<h4>elmon Model:</h4>\n",
    "\n",
    "* MSE Loss: 0.07604192085388832\n",
    "* The elmon model achieves an MSE loss of approximately 0.076 on the test dataset.\n",
    "* This indicates that, on average, the squared difference between the predicted outputs and the actual targets is 0.076. A lower MSE indicates better accuracy and closer predictions to the ground truth values.\n",
    "* The elmon model's performance in testing suggests that it is able to make reasonably accurate predictions, although it may have higher errors compared to the LSTM and GRU models.\n",
    "\n",
    "<h4>LSTM Model:</h4>\n",
    "\n",
    "* MSE Loss: 0.00034890244498552646\n",
    "* The LSTM model achieves an extremely low MSE loss of approximately 0.0003489 on the test dataset.\n",
    "* This indicates that the LSTM model's predictions are very close to the actual targets, with minimal squared differences.\n",
    "* The low MSE loss suggests that the LSTM model has learned to accurately capture the patterns in the data and make precise predictions.\n",
    "\n",
    "<h4>GRU Model:</h4>\n",
    "\n",
    "* MSE Loss: 0.00010255258584867378\n",
    "* The GRU model achieves an even lower MSE loss of approximately 0.0001026 on the test dataset.\n",
    "* This indicates that the GRU model's predictions are extremely close to the actual targets, with very small squared differences.\n",
    "* The exceptionally low MSE loss suggests that the GRU model performs even better than the LSTM model in terms of accuracy and precision.\n",
    "\n",
    "<p>Overall, the testing results show that both the LSTM and GRU models outperform the elmon model in terms of accuracy, with the GRU model achieving the lowest MSE loss. These results align with the observations from the comparison plot, confirming that the LSTM and GRU models are more effective in making accurate predictions on the given task.</p>"
   ]
  }
 ],
 "metadata": {
  "kernelspec": {
   "display_name": "Python 3 (ipykernel)",
   "language": "python",
   "name": "python3"
  },
  "language_info": {
   "codemirror_mode": {
    "name": "ipython",
    "version": 3
   },
   "file_extension": ".py",
   "mimetype": "text/x-python",
   "name": "python",
   "nbconvert_exporter": "python",
   "pygments_lexer": "ipython3",
   "version": "3.10.6"
  }
 },
 "nbformat": 4,
 "nbformat_minor": 5
}
